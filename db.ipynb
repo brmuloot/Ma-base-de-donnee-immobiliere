{
 "cells": [
  {
   "cell_type": "code",
   "execution_count": 28,
   "id": "b4326d3f",
   "metadata": {},
   "outputs": [],
   "source": [
    "import sqlite3\n",
    "import pandas as pd\n",
    "\n",
    "con = sqlite3.connect(\"immo.db\")\n",
    "cur=con.cursor()\n",
    "\n",
    "data = pd.read_excel(\"valeurs_foncieres.xlsx\")\n",
    "data_dc = pd.read_excel(\"donnees_communes.xlsx\")\n",
    "data_3 = pd.read_excel(\"fr-esr-referentiel-geographique.xlsx\")"
   ]
  },
  {
   "cell_type": "markdown",
   "id": "707e5bd0",
   "metadata": {},
   "source": [
    "Nous allons créer la table REGION. Pour cela nous avons besoin des colonnes :\n",
    "\n",
    "    -reg_code\n",
    "    -reg_nom\n",
    "    -regrp_nom"
   ]
  },
  {
   "cell_type": "code",
   "execution_count": 90,
   "id": "fba4b685",
   "metadata": {},
   "outputs": [
    {
     "name": "stderr",
     "output_type": "stream",
     "text": [
      "C:\\Users\\utilisateur\\AppData\\Local\\Temp\\ipykernel_15272\\2314374183.py:2: SettingWithCopyWarning: \n",
      "A value is trying to be set on a copy of a slice from a DataFrame\n",
      "\n",
      "See the caveats in the documentation: https://pandas.pydata.org/pandas-docs/stable/user_guide/indexing.html#returning-a-view-versus-a-copy\n",
      "  REGION.drop_duplicates(inplace=True)\n"
     ]
    }
   ],
   "source": [
    "REGION = data_3[['regrgp_nom','reg_nom','reg_code']]\n",
    "REGION.drop_duplicates(inplace=True)"
   ]
  },
  {
   "cell_type": "code",
   "execution_count": 91,
   "id": "c8db239a",
   "metadata": {},
   "outputs": [
    {
     "name": "stderr",
     "output_type": "stream",
     "text": [
      "C:\\Users\\utilisateur\\AppData\\Local\\Temp\\ipykernel_15272\\266201803.py:1: SettingWithCopyWarning: \n",
      "A value is trying to be set on a copy of a slice from a DataFrame\n",
      "\n",
      "See the caveats in the documentation: https://pandas.pydata.org/pandas-docs/stable/user_guide/indexing.html#returning-a-view-versus-a-copy\n",
      "  REGION.rename(columns={'regrgp_nom' : 'regrp_nom'}, inplace=True)\n"
     ]
    }
   ],
   "source": [
    "REGION.rename(columns={'regrgp_nom' : 'regrp_nom'}, inplace=True)"
   ]
  },
  {
   "cell_type": "code",
   "execution_count": 92,
   "id": "72a1e6aa",
   "metadata": {},
   "outputs": [
    {
     "data": {
      "text/plain": [
       "19"
      ]
     },
     "execution_count": 92,
     "metadata": {},
     "output_type": "execute_result"
    }
   ],
   "source": [
    "con = sqlite3.connect(\"immo.db\")\n",
    "\n",
    "REGION.to_sql('region', con, if_exists=\"replace\", index=False)"
   ]
  },
  {
   "cell_type": "markdown",
   "id": "74de1025",
   "metadata": {},
   "source": [
    "Nous allons créer la table DEPARTEMENT. Pour cela nous avons besoin des colonnes :\n",
    "    \n",
    "    -dep_nom\n",
    "    -reg_code\n",
    "    -dep_code"
   ]
  },
  {
   "cell_type": "code",
   "execution_count": 63,
   "id": "7c88a880",
   "metadata": {},
   "outputs": [
    {
     "name": "stderr",
     "output_type": "stream",
     "text": [
      "C:\\Users\\utilisateur\\AppData\\Local\\Temp\\ipykernel_15272\\729136423.py:2: SettingWithCopyWarning: \n",
      "A value is trying to be set on a copy of a slice from a DataFrame\n",
      "\n",
      "See the caveats in the documentation: https://pandas.pydata.org/pandas-docs/stable/user_guide/indexing.html#returning-a-view-versus-a-copy\n",
      "  DEPARTEMENT.drop_duplicates(inplace=True)\n"
     ]
    }
   ],
   "source": [
    "DEPARTEMENT = data_3[['dep_code', 'dep_nom','reg_code']]\n",
    "DEPARTEMENT.drop_duplicates(inplace=True)"
   ]
  },
  {
   "cell_type": "code",
   "execution_count": 85,
   "id": "dc989c73",
   "metadata": {},
   "outputs": [
    {
     "data": {
      "text/plain": [
       "109"
      ]
     },
     "execution_count": 85,
     "metadata": {},
     "output_type": "execute_result"
    }
   ],
   "source": [
    "DEPARTEMENT.to_sql('departement', con, if_exists=\"replace\", index=False)"
   ]
  },
  {
   "cell_type": "markdown",
   "id": "47b57840",
   "metadata": {},
   "source": [
    "Nous allons créer la table COMMUNE. Pour cela nous allons avoir besoin des colonnes :\n",
    "    \n",
    "    -id_codedep_codecommune\n",
    "    -code_departement\n",
    "    -code_commune\n",
    "    -code_postal\n",
    "    -nom_commune"
   ]
  },
  {
   "cell_type": "code",
   "execution_count": 77,
   "id": "10c13c57",
   "metadata": {},
   "outputs": [],
   "source": [
    "test = data_dc[['PMUN','PCAP','PTOT','COM']]"
   ]
  },
  {
   "cell_type": "code",
   "execution_count": null,
   "id": "404243b2",
   "metadata": {},
   "outputs": [],
   "source": [
    "test2 = data[['']]"
   ]
  },
  {
   "cell_type": "code",
   "execution_count": 104,
   "id": "b634cf07",
   "metadata": {},
   "outputs": [
    {
     "data": {
      "text/html": [
       "<div>\n",
       "<style scoped>\n",
       "    .dataframe tbody tr th:only-of-type {\n",
       "        vertical-align: middle;\n",
       "    }\n",
       "\n",
       "    .dataframe tbody tr th {\n",
       "        vertical-align: top;\n",
       "    }\n",
       "\n",
       "    .dataframe thead th {\n",
       "        text-align: right;\n",
       "    }\n",
       "</style>\n",
       "<table border=\"1\" class=\"dataframe\">\n",
       "  <thead>\n",
       "    <tr style=\"text-align: right;\">\n",
       "      <th></th>\n",
       "      <th>Code ID commune</th>\n",
       "      <th>Code postal</th>\n",
       "      <th>Code departement</th>\n",
       "      <th>Code commune</th>\n",
       "      <th>Commune</th>\n",
       "    </tr>\n",
       "  </thead>\n",
       "  <tbody>\n",
       "    <tr>\n",
       "      <th>0</th>\n",
       "      <td>0</td>\n",
       "      <td>1370.0</td>\n",
       "      <td>1</td>\n",
       "      <td>350</td>\n",
       "      <td>SAINT-ETIENNE-DU-BOIS</td>\n",
       "    </tr>\n",
       "    <tr>\n",
       "      <th>1</th>\n",
       "      <td>1</td>\n",
       "      <td>1170.0</td>\n",
       "      <td>1</td>\n",
       "      <td>103</td>\n",
       "      <td>CHEVRY</td>\n",
       "    </tr>\n",
       "    <tr>\n",
       "      <th>2</th>\n",
       "      <td>1</td>\n",
       "      <td>1170.0</td>\n",
       "      <td>1</td>\n",
       "      <td>103</td>\n",
       "      <td>CHEVRY</td>\n",
       "    </tr>\n",
       "    <tr>\n",
       "      <th>3</th>\n",
       "      <td>1</td>\n",
       "      <td>1170.0</td>\n",
       "      <td>1</td>\n",
       "      <td>103</td>\n",
       "      <td>CHEVRY</td>\n",
       "    </tr>\n",
       "    <tr>\n",
       "      <th>4</th>\n",
       "      <td>1</td>\n",
       "      <td>1170.0</td>\n",
       "      <td>1</td>\n",
       "      <td>103</td>\n",
       "      <td>CHEVRY</td>\n",
       "    </tr>\n",
       "    <tr>\n",
       "      <th>...</th>\n",
       "      <td>...</td>\n",
       "      <td>...</td>\n",
       "      <td>...</td>\n",
       "      <td>...</td>\n",
       "      <td>...</td>\n",
       "    </tr>\n",
       "    <tr>\n",
       "      <th>34164</th>\n",
       "      <td>3192</td>\n",
       "      <td>97419.0</td>\n",
       "      <td>974</td>\n",
       "      <td>8</td>\n",
       "      <td>LA POSSESSION</td>\n",
       "    </tr>\n",
       "    <tr>\n",
       "      <th>34165</th>\n",
       "      <td>3192</td>\n",
       "      <td>97419.0</td>\n",
       "      <td>974</td>\n",
       "      <td>8</td>\n",
       "      <td>LA POSSESSION</td>\n",
       "    </tr>\n",
       "    <tr>\n",
       "      <th>34166</th>\n",
       "      <td>3193</td>\n",
       "      <td>97410.0</td>\n",
       "      <td>974</td>\n",
       "      <td>16</td>\n",
       "      <td>SAINT PIERRE</td>\n",
       "    </tr>\n",
       "    <tr>\n",
       "      <th>34167</th>\n",
       "      <td>3193</td>\n",
       "      <td>97410.0</td>\n",
       "      <td>974</td>\n",
       "      <td>16</td>\n",
       "      <td>SAINT PIERRE</td>\n",
       "    </tr>\n",
       "    <tr>\n",
       "      <th>34168</th>\n",
       "      <td>3194</td>\n",
       "      <td>97424.0</td>\n",
       "      <td>974</td>\n",
       "      <td>13</td>\n",
       "      <td>SAINT-LEU</td>\n",
       "    </tr>\n",
       "  </tbody>\n",
       "</table>\n",
       "<p>34169 rows × 5 columns</p>\n",
       "</div>"
      ],
      "text/plain": [
       "       Code ID commune  Code postal Code departement  Code commune  \\\n",
       "0                    0       1370.0                1           350   \n",
       "1                    1       1170.0                1           103   \n",
       "2                    1       1170.0                1           103   \n",
       "3                    1       1170.0                1           103   \n",
       "4                    1       1170.0                1           103   \n",
       "...                ...          ...              ...           ...   \n",
       "34164             3192      97419.0              974             8   \n",
       "34165             3192      97419.0              974             8   \n",
       "34166             3193      97410.0              974            16   \n",
       "34167             3193      97410.0              974            16   \n",
       "34168             3194      97424.0              974            13   \n",
       "\n",
       "                     Commune  \n",
       "0      SAINT-ETIENNE-DU-BOIS  \n",
       "1                     CHEVRY  \n",
       "2                     CHEVRY  \n",
       "3                     CHEVRY  \n",
       "4                     CHEVRY  \n",
       "...                      ...  \n",
       "34164          LA POSSESSION  \n",
       "34165          LA POSSESSION  \n",
       "34166           SAINT PIERRE  \n",
       "34167           SAINT PIERRE  \n",
       "34168              SAINT-LEU  \n",
       "\n",
       "[34169 rows x 5 columns]"
      ]
     },
     "execution_count": 104,
     "metadata": {},
     "output_type": "execute_result"
    }
   ],
   "source": [
    "data[['Code ID commune', 'Code postal', 'Code departement', 'Code commune', 'Commune']]"
   ]
  },
  {
   "cell_type": "markdown",
   "id": "038309d3",
   "metadata": {},
   "source": [
    "Nous allons créer la table VENTE. Pour cela nous avons besoin des colonnes :\n",
    "\n",
    "    -Id_vente\n",
    "    -date\n",
    "    -valeur"
   ]
  },
  {
   "cell_type": "code",
   "execution_count": 98,
   "id": "7f2a4ba0",
   "metadata": {},
   "outputs": [
    {
     "name": "stderr",
     "output_type": "stream",
     "text": [
      "C:\\Users\\utilisateur\\AppData\\Local\\Temp\\ipykernel_15272\\566623897.py:2: SettingWithCopyWarning: \n",
      "A value is trying to be set on a copy of a slice from a DataFrame\n",
      "\n",
      "See the caveats in the documentation: https://pandas.pydata.org/pandas-docs/stable/user_guide/indexing.html#returning-a-view-versus-a-copy\n",
      "  vente.rename(columns={'Date mutation' : 'date',\n"
     ]
    }
   ],
   "source": [
    "vente = data[['Date mutation', 'Valeur fonciere']]\n",
    "vente.rename(columns={'Date mutation' : 'date', \n",
    "                              'Valeur fonciere':'valeur'}, inplace=True)\n"
   ]
  },
  {
   "cell_type": "code",
   "execution_count": 99,
   "id": "00585169",
   "metadata": {},
   "outputs": [
    {
     "name": "stderr",
     "output_type": "stream",
     "text": [
      "C:\\Users\\utilisateur\\AppData\\Local\\Temp\\ipykernel_15272\\2305867910.py:1: SettingWithCopyWarning: \n",
      "A value is trying to be set on a copy of a slice from a DataFrame\n",
      "\n",
      "See the caveats in the documentation: https://pandas.pydata.org/pandas-docs/stable/user_guide/indexing.html#returning-a-view-versus-a-copy\n",
      "  vente.drop_duplicates(inplace=True)\n",
      "C:\\Users\\utilisateur\\AppData\\Local\\Temp\\ipykernel_15272\\2305867910.py:2: SettingWithCopyWarning: \n",
      "A value is trying to be set on a copy of a slice from a DataFrame.\n",
      "Try using .loc[row_indexer,col_indexer] = value instead\n",
      "\n",
      "See the caveats in the documentation: https://pandas.pydata.org/pandas-docs/stable/user_guide/indexing.html#returning-a-view-versus-a-copy\n",
      "  vente['id_vente'] = vente.index\n"
     ]
    }
   ],
   "source": [
    "vente.drop_duplicates(inplace=True)\n",
    "vente['id_vente'] = vente.index"
   ]
  },
  {
   "cell_type": "code",
   "execution_count": 101,
   "id": "93540096",
   "metadata": {},
   "outputs": [
    {
     "data": {
      "text/plain": [
       "28984"
      ]
     },
     "execution_count": 101,
     "metadata": {},
     "output_type": "execute_result"
    }
   ],
   "source": [
    "vente.to_sql('vente', con, if_exists=\"replace\", index=False)"
   ]
  },
  {
   "cell_type": "code",
   "execution_count": null,
   "id": "e20f32f5",
   "metadata": {},
   "outputs": [],
   "source": []
  },
  {
   "cell_type": "code",
   "execution_count": null,
   "id": "5a724531",
   "metadata": {},
   "outputs": [],
   "source": []
  }
 ],
 "metadata": {
  "kernelspec": {
   "display_name": "Python 3 (ipykernel)",
   "language": "python",
   "name": "python3"
  },
  "language_info": {
   "codemirror_mode": {
    "name": "ipython",
    "version": 3
   },
   "file_extension": ".py",
   "mimetype": "text/x-python",
   "name": "python",
   "nbconvert_exporter": "python",
   "pygments_lexer": "ipython3",
   "version": "3.9.12"
  }
 },
 "nbformat": 4,
 "nbformat_minor": 5
}
